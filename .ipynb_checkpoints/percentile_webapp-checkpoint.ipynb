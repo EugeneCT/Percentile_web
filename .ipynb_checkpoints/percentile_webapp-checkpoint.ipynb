{
 "cells": [
  {
   "cell_type": "code",
   "execution_count": 1,
   "id": "79b0546b-ce77-40a2-b5a4-3937dd79fae5",
   "metadata": {},
   "outputs": [],
   "source": [
    "#!jupyter nbextension enable --py widgetsnbextension --sys-prefix\n",
    "#!jupyter serverextension enable voila --sys-prefix"
   ]
  },
  {
   "cell_type": "code",
   "execution_count": 4,
   "id": "3c079315-c573-4f61-bc01-7baadf94859c",
   "metadata": {},
   "outputs": [
    {
     "name": "stderr",
     "output_type": "stream",
     "text": [
      "Enabling notebook extension jupyter-js-widgets/extension...\n",
      "      - Validating: ok\n",
      "Enabling: voila\n",
      "- Writing config: C:\\Users\\eugen\\anaconda3\\envs\\PercentileWebapp\\etc\\jupyter\n",
      "    - Validating...\n",
      "      voila 0.3.5 ok\n"
     ]
    }
   ],
   "source": [
    "# !jupyter nbextension enable --py widgetsnbextension --sys-prefix\n",
    "# !jupyter serverextension enable voila --sys-prefix"
   ]
  },
  {
   "cell_type": "code",
   "execution_count": 2,
   "id": "9c6774c6-966f-4cd6-b053-8640379c7c30",
   "metadata": {},
   "outputs": [],
   "source": [
    "import ipywidgets as widgets\n",
    "import random\n",
    "import numpy as np\n",
    "\n",
    "import warnings\n",
    "warnings.filterwarnings('ignore')\n",
    "from IPython.display import display, clear_output\n",
    "\n",
    "\n"
   ]
  },
  {
   "cell_type": "code",
   "execution_count": null,
   "id": "611501d9-d653-4440-81d1-bef49264acd6",
   "metadata": {},
   "outputs": [],
   "source": [
    "# Generate Rand Number\n",
    "\n",
    "text_0 = widgets.HTML(value=\"<h1>Percentile Scale!</h1>\")\n",
    "text_1 = widgets.HTML(value=\"<h2>Generate random number</h2>\")\n",
    "\n",
    "int_float = widgets.ToggleButtons(\n",
    "            options=['Integer only', 'Include floats']\n",
    "        )\n",
    "\n",
    "min_box=widgets.BoundedIntText(\n",
    "    value=0,\n",
    "    min=0,\n",
    "    max=100000000000,\n",
    "    step=1,\n",
    "    description='Min Value :',\n",
    "    disabled=False,\n",
    "    layout = widgets.Layout(width='350px')\n",
    ")\n",
    "\n",
    "max_box=widgets.BoundedIntText(\n",
    "    value=10,\n",
    "    min=1,\n",
    "    max=100000000000,\n",
    "    step=1,\n",
    "    description='Max Value :',\n",
    "    disabled=False,\n",
    "    layout = widgets.Layout(width='350px')\n",
    ")\n",
    "\n",
    "num_box=widgets.BoundedIntText(\n",
    "    value=5,\n",
    "    min=1,\n",
    "    max=100000,\n",
    "    step=1,\n",
    "    description='Numbers :',\n",
    "    disabled=False,\n",
    "    layout = widgets.Layout(width='350px')\n",
    ")\n",
    "\n",
    "\n",
    "\n",
    "seed_box=widgets.BoundedIntText(\n",
    "    value=0,\n",
    "    min=0,\n",
    "    max=1000,\n",
    "    step=1,\n",
    "    description='Random Seed :',\n",
    "    disabled=False,\n",
    "    layout = widgets.Layout(width='350px')\n",
    ")\n",
    "btn_gen_num = widgets.Button(\n",
    "                description='Generate dataset',\n",
    "                tooltip='Generate dataset based on the settings above',\n",
    "                style={'description_width': 'initial'}\n",
    "            )\n",
    "# btn_layout = widgets.Layout(display='flex',\n",
    "#                 flex_flow='column',\n",
    "#                 align_items='center',\n",
    "#                 width='85%')\n",
    "# gen_box = widgets.HBox(children=[btn_gen_num],layout=btn_layout)\n",
    "\n",
    "def gen_num_clicked(event):\n",
    "    value_list.value=\"\"\n",
    "    if seed_box.value!=0:\n",
    "        random.seed(seed_box.value)\n",
    "    if int_float.value==\"Integer only\":\n",
    "        # value_list.value=a for a in [\"1\",\"2\"]\n",
    "        value_list.value=','.join([str(x) for x in np.sort([random.randint(min_box.value, max_box.value) for p in range(0, num_box.value)])])\n",
    "    else:\n",
    "        value_list.value=','.join([str(x) for x in np.sort([round(random.uniform(min_box.value, max_box.value), random.randrange(0, 4)) for p in range(0, num_box.value)])])\n",
    "\n",
    "\n",
    "    \n",
    "btn_gen_num .on_click(gen_num_clicked)\n",
    "\n",
    "value_list = widgets.Textarea(\n",
    "    value=\"\",\n",
    "    placeholder='list of sample dataset',\n",
    "    layout = widgets.Layout(width='350px'))\n",
    "\n",
    "vbox_rand = widgets.VBox([text_0, \n",
    "                          text_1, \n",
    "                          int_float,\n",
    "                          min_box,\n",
    "                          max_box,\n",
    "                          num_box,\n",
    "                          seed_box,\n",
    "                          btn_gen_num,\n",
    "                          value_list])"
   ]
  },
  {
   "cell_type": "code",
   "execution_count": null,
   "id": "1b7c39d8-d074-4217-a7e4-20c21ad696b1",
   "metadata": {},
   "outputs": [],
   "source": [
    "# Percentile Settings\n",
    "\n",
    "text_2= widgets.HTML(value=\"<h2>Calculate percentiles </h2>\")\n",
    "\n",
    "start_box=widgets.BoundedIntText(\n",
    "    value=0,\n",
    "    min=0,\n",
    "    max=99,\n",
    "    step=1,\n",
    "    description='Start Pct :',\n",
    "    disabled=False,\n",
    "    layout = widgets.Layout(width='350px')\n",
    ")\n",
    "\n",
    "stop_box=widgets.BoundedIntText(\n",
    "    value=100,\n",
    "    min=1,\n",
    "    max=100,\n",
    "    step=1,\n",
    "    description='Stop Pct :',\n",
    "    disabled=False,\n",
    "    layout = widgets.Layout(width='350px')\n",
    ")\n",
    "\n",
    "step_box=widgets.BoundedIntText(\n",
    "    value=1,\n",
    "    min=1,\n",
    "    max=25,\n",
    "    step=1,\n",
    "    description='Steps :',\n",
    "    disabled=False,\n",
    "    layout = widgets.Layout(width='350px')\n",
    ")\n",
    "\n",
    "btn_cal_pct = widgets.Button(\n",
    "                description='Calculate Percentile',\n",
    "                tooltip='Calculate Percentile based on dataset above',\n",
    "                style={'description_width': 'initial'}\n",
    "            )\n",
    "# btn_layout = widgets.Layout(display='flex',\n",
    "#                 flex_flow='column',\n",
    "#                 align_items='center',\n",
    "#                 width='85%')\n",
    "# gen_box = widgets.HBox(children=[btn_gen_num],layout=btn_layout)\n",
    "\n",
    "out = widgets.Output(layout={'border': '1px solid black','width':'350px'})\n",
    "out.value=\"\"\n",
    "\n",
    "def cal_pct_clicked(event):\n",
    "    \n",
    "    with out:\n",
    "        clear_output()\n",
    "        try:\n",
    "            for each in range(start_box.value,stop_box.value+step_box.value,step_box.value):\n",
    "                sizes=[float(x) for x in value_list.value.split(\",\")]\n",
    "                print(\"{} Percentile value is {}\".format(each,np.percentile(sizes,each)))\n",
    "        except:\n",
    "            print(\"Error! Check the dataset\")\n",
    "\n",
    "\n",
    "    \n",
    "btn_cal_pct.on_click(cal_pct_clicked)\n",
    "\n",
    "\n",
    "\n",
    "vbox_pct_set = widgets.VBox([ text_2,\n",
    "                            start_box,\n",
    "                             stop_box,\n",
    "                             step_box,\n",
    "                             btn_cal_pct,\n",
    "                             out\n",
    "                        ])\n",
    "\n",
    "\n"
   ]
  },
  {
   "cell_type": "code",
   "execution_count": null,
   "id": "9844dbf4-e4fe-448c-b041-63b77314e0a6",
   "metadata": {},
   "outputs": [],
   "source": [
    "\n",
    "\n",
    "text_3= widgets.HTML(value=\"<h2> Percentile of a value </h2>\")\n",
    "\n",
    "etr_loc_box=widgets.BoundedFloatText(\n",
    "    value=0,\n",
    "    min=0,\n",
    "    max=100000000000,\n",
    "    step=0.01,\n",
    "    description='Value :',\n",
    "    disabled=False,\n",
    "    layout = widgets.Layout(width='350px')\n",
    ")\n",
    "\n",
    "\n",
    "\n",
    "btn_pct_loc = widgets.Button(\n",
    "                description='Find Percentile',\n",
    "                tooltip='Calculate Percentile based on dataset above',\n",
    "        \n",
    "                style={'description_width': 'initial'}\n",
    "            )\n",
    "\n",
    "\n",
    "btn_layout = widgets.Layout(display='flex',\n",
    "                flex_flow='column',\n",
    "                align_items='center',\n",
    "                width='100%')\n",
    "btn_pct_loc_box = widgets.HBox(children=[btn_pct_loc],layout=btn_layout)\n",
    "\n",
    "out2 = widgets.Output(layout={'border': '1px solid black','width':'350px'})\n",
    "out2.value=\"\"\n",
    "\n",
    "def btn_pct_loc_clicked(event):\n",
    "    plot_dict={}\n",
    "    \n",
    "    sizes=[float(x) for x in value_list.value.split(\",\")]\n",
    "    for each in range(0,101,1):\n",
    "        plot_dict[each]=np.percentile(sizes,each)\n",
    "    for keys in plot_dict:\n",
    "            if float(etr_loc_box.value)<plot_dict[keys]:\n",
    "                percentile=keys\n",
    "                break\n",
    "            percentile=101\n",
    "\n",
    "    with out2:\n",
    "        clear_output()\n",
    "        if percentile==0:\n",
    "            percentile=1\n",
    "        print(\"The percentile of {} is {}\".format(etr_loc_box.value,percentile-1))        \n",
    "        \n",
    "        \n",
    "        \n",
    "        \n",
    "\n",
    "    \n",
    "btn_pct_loc.on_click(btn_pct_loc_clicked)\n",
    "\n",
    "\n",
    "\n",
    "vbox_pct_loc = widgets.VBox([ text_3,\n",
    "                             etr_loc_box,\n",
    "                            btn_pct_loc_box,\n",
    "                             out2\n",
    "                        ])\n"
   ]
  },
  {
   "cell_type": "code",
   "execution_count": null,
   "id": "22c84daf-11d9-44d8-b9de-e7e02536d94d",
   "metadata": {},
   "outputs": [],
   "source": [
    "hbox_row_2 = widgets.HBox([ \n",
    "                             vbox_pct_set ,\n",
    "                             vbox_pct_loc\n",
    "                        ])\n"
   ]
  },
  {
   "cell_type": "code",
   "execution_count": null,
   "id": "4a7a1146-5c08-40f6-aede-7d31531ffb88",
   "metadata": {},
   "outputs": [],
   "source": []
  },
  {
   "cell_type": "code",
   "execution_count": 24,
   "id": "09d8c4e0-c815-4cbb-ba26-75ea6038fead",
   "metadata": {},
   "outputs": [
    {
     "ename": "NameError",
     "evalue": "name 'on_button_clicked' is not defined",
     "output_type": "error",
     "traceback": [
      "\u001b[1;31m---------------------------------------------------------------------------\u001b[0m",
      "\u001b[1;31mNameError\u001b[0m                                 Traceback (most recent call last)",
      "Input \u001b[1;32mIn [24]\u001b[0m, in \u001b[0;36m<cell line: 54>\u001b[1;34m()\u001b[0m\n\u001b[0;32m     51\u001b[0m \u001b[38;5;28;01mdef\u001b[39;00m \u001b[38;5;21mgen_num_clicked\u001b[39m(event):\n\u001b[0;32m     52\u001b[0m     value_list\u001b[38;5;241m.\u001b[39mvalue\u001b[38;5;241m=\u001b[39m\u001b[38;5;124m\"\u001b[39m\u001b[38;5;124m \u001b[39m\u001b[38;5;124m\"\u001b[39m\n\u001b[1;32m---> 54\u001b[0m btn_gen_num \u001b[38;5;241m.\u001b[39mon_click(\u001b[43mon_button_clicked\u001b[49m)\n\u001b[0;32m     57\u001b[0m start_box\u001b[38;5;241m=\u001b[39mwidgets\u001b[38;5;241m.\u001b[39mBoundedIntText(\n\u001b[0;32m     58\u001b[0m     value\u001b[38;5;241m=\u001b[39m\u001b[38;5;241m0\u001b[39m,\n\u001b[0;32m     59\u001b[0m     \u001b[38;5;28mmin\u001b[39m\u001b[38;5;241m=\u001b[39m\u001b[38;5;241m0\u001b[39m,\n\u001b[1;32m   (...)\u001b[0m\n\u001b[0;32m     64\u001b[0m     layout \u001b[38;5;241m=\u001b[39m widgets\u001b[38;5;241m.\u001b[39mLayout(width\u001b[38;5;241m=\u001b[39m\u001b[38;5;124m'\u001b[39m\u001b[38;5;124m350px\u001b[39m\u001b[38;5;124m'\u001b[39m)\n\u001b[0;32m     65\u001b[0m )\n\u001b[0;32m     67\u001b[0m stop_box\u001b[38;5;241m=\u001b[39mwidgets\u001b[38;5;241m.\u001b[39mBoundedIntText(\n\u001b[0;32m     68\u001b[0m     value\u001b[38;5;241m=\u001b[39m\u001b[38;5;241m100\u001b[39m,\n\u001b[0;32m     69\u001b[0m     \u001b[38;5;28mmin\u001b[39m\u001b[38;5;241m=\u001b[39m\u001b[38;5;241m1\u001b[39m,\n\u001b[1;32m   (...)\u001b[0m\n\u001b[0;32m     74\u001b[0m     layout \u001b[38;5;241m=\u001b[39m widgets\u001b[38;5;241m.\u001b[39mLayout(width\u001b[38;5;241m=\u001b[39m\u001b[38;5;124m'\u001b[39m\u001b[38;5;124m350px\u001b[39m\u001b[38;5;124m'\u001b[39m)\n\u001b[0;32m     75\u001b[0m )\n",
      "\u001b[1;31mNameError\u001b[0m: name 'on_button_clicked' is not defined"
     ]
    }
   ],
   "source": []
  },
  {
   "cell_type": "code",
   "execution_count": null,
   "id": "7a48184b-99c8-497a-a1f0-bafe27d54763",
   "metadata": {},
   "outputs": [],
   "source": [
    "page = widgets.VBox([vbox_rand,hbox_row_2])\n",
    "display(page)"
   ]
  },
  {
   "cell_type": "code",
   "execution_count": null,
   "id": "45fb8aa4-0ff5-4433-a135-1674ca39ffcb",
   "metadata": {},
   "outputs": [],
   "source": []
  },
  {
   "cell_type": "code",
   "execution_count": 12,
   "id": "de095106-aad9-4436-a412-1057f18f357f",
   "metadata": {},
   "outputs": [
    {
     "data": {
      "text/plain": [
       "0.8"
      ]
     },
     "execution_count": 12,
     "metadata": {},
     "output_type": "execute_result"
    }
   ],
   "source": []
  },
  {
   "cell_type": "code",
   "execution_count": 18,
   "id": "5e3766f5-d665-4bd1-b4d5-487191ef8305",
   "metadata": {},
   "outputs": [
    {
     "data": {
      "text/plain": [
       "[6, 1, 9, 8, 8, 2, 2, 4, 6, 4]"
      ]
     },
     "execution_count": 18,
     "metadata": {},
     "output_type": "execute_result"
    }
   ],
   "source": [
    "# x = [random.randint(0, 9) for p in range(0, 10)]\n",
    "# x"
   ]
  },
  {
   "cell_type": "code",
   "execution_count": 20,
   "id": "54ec0850-048f-42bf-815a-9767864a71c8",
   "metadata": {},
   "outputs": [
    {
     "data": {
      "text/plain": [
       "[0.95, 0.66, 1.0, 0.94, 0.5, 1.0, 1.0, 1.0, 0.625, 0.76]"
      ]
     },
     "execution_count": 20,
     "metadata": {},
     "output_type": "execute_result"
    }
   ],
   "source": [
    "# y=[round(random.uniform(0.5, 1), random.randrange(0, 4)) for p in range(0,10)]\n",
    "# #min,#max,decimal min, decimal max,0, numbers\n",
    "# y"
   ]
  },
  {
   "cell_type": "code",
   "execution_count": 30,
   "id": "146b70c0-d5ec-48db-99c7-cfd1cb37762c",
   "metadata": {},
   "outputs": [
    {
     "ename": "SyntaxError",
     "evalue": "invalid syntax (3506823805.py, line 1)",
     "output_type": "error",
     "traceback": [
      "\u001b[1;36m  Input \u001b[1;32mIn [32]\u001b[1;36m\u001b[0m\n\u001b[1;33m    \",\".join(np.sort[(str(random.randint(1, 5))) for p in range(0, 5)]))\u001b[0m\n\u001b[1;37m                                                 ^\u001b[0m\n\u001b[1;31mSyntaxError\u001b[0m\u001b[1;31m:\u001b[0m invalid syntax\n"
     ]
    }
   ],
   "source": [
    "# \",\".join(np.sort[(str(random.randint(1, 5))) for p in range(0, 5)]))"
   ]
  },
  {
   "cell_type": "code",
   "execution_count": 5,
   "id": "6002057d-d5bc-4103-a02c-3f9751875ac3",
   "metadata": {},
   "outputs": [
    {
     "data": {
      "text/plain": [
       "['1', '1', '2', '5', '5']"
      ]
     },
     "execution_count": 5,
     "metadata": {},
     "output_type": "execute_result"
    }
   ],
   "source": [
    "# apple=[str(x) for x in np.sort([random.randint(1, 5) for p in range(0, 5)])]\n",
    "# apple"
   ]
  },
  {
   "cell_type": "code",
   "execution_count": 6,
   "id": "6102eab4-6d76-4264-a029-681f9a7d59c7",
   "metadata": {},
   "outputs": [
    {
     "name": "stdout",
     "output_type": "stream",
     "text": [
      "[1, 1, 2, 5, 5]\n"
     ]
    }
   ],
   "source": [
    "# print([int(x) for x in apple])"
   ]
  },
  {
   "cell_type": "code",
   "execution_count": 16,
   "id": "1d9e48b3-26ff-44c9-a836-e2c07b216944",
   "metadata": {},
   "outputs": [],
   "source": [
    "a=[1,2,3,3,4,5]\n",
    "c=4"
   ]
  },
  {
   "cell_type": "code",
   "execution_count": 17,
   "id": "318ebb5b-ca7a-47a5-9685-12a36ba8455a",
   "metadata": {},
   "outputs": [],
   "source": [
    "b=[x for x in a if c>x]"
   ]
  },
  {
   "cell_type": "code",
   "execution_count": 18,
   "id": "11e96166-621c-457c-9038-bdd0319ed9ed",
   "metadata": {},
   "outputs": [
    {
     "data": {
      "text/plain": [
       "4"
      ]
     },
     "execution_count": 18,
     "metadata": {},
     "output_type": "execute_result"
    }
   ],
   "source": [
    "len(b)"
   ]
  },
  {
   "cell_type": "code",
   "execution_count": null,
   "id": "d5e1b178-b6bd-4ca0-8e21-80b11c5308f2",
   "metadata": {},
   "outputs": [],
   "source": []
  }
 ],
 "metadata": {
  "kernelspec": {
   "display_name": "Python 3 (ipykernel)",
   "language": "python",
   "name": "python3"
  },
  "language_info": {
   "codemirror_mode": {
    "name": "ipython",
    "version": 3
   },
   "file_extension": ".py",
   "mimetype": "text/x-python",
   "name": "python",
   "nbconvert_exporter": "python",
   "pygments_lexer": "ipython3",
   "version": "3.8.13"
  }
 },
 "nbformat": 4,
 "nbformat_minor": 5
}
